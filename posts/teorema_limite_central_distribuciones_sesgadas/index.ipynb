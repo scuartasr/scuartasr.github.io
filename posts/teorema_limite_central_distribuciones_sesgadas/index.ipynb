{
  "cells": [
    {
      "cell_type": "raw",
      "metadata": {},
      "source": [
        "---\n",
        "title: \"Titanic\"\n",
        "author: \"Tristan O'Malley\"\n",
        "date: \"2023-03-08\"\n",
        "categories: [news]\n",
        "---"
      ],
      "id": "22d15814"
    },
    {
      "cell_type": "markdown",
      "metadata": {},
      "source": [
        "aasd\n",
        "\n",
        "\n",
        "```{html}\n",
        "<iframe title=\"Report Section\" width=\"600\" height=\"373.5\" src=\"https://app.powerbi.com/view?r=eyJrIjoiYjcwMmZmNGItZDgwMS00YjMwLWIzYWEtYzJmNzQ2ZGZlNzM2IiwidCI6IjU3N2ZjMWQ4LTA5MjItNDU4ZS04N2JmLWVjNGY0NTVlYjYwMCIsImMiOjR9\" frameborder=\"0\" allowFullScreen=\"true\"></iframe>\n",
        "```"
      ],
      "id": "67cab352"
    }
  ],
  "metadata": {
    "kernelspec": {
      "name": "python3",
      "language": "python",
      "display_name": "Python 3 (ipykernel)"
    }
  },
  "nbformat": 4,
  "nbformat_minor": 5
}